{
 "cells": [
  {
   "cell_type": "markdown",
   "metadata": {},
   "source": [
    "# Regression Week 5: LASSO (coordinate descent)"
   ]
  },
  {
   "cell_type": "markdown",
   "metadata": {},
   "source": [
    "In this notebook, you will implement your very own LASSO solver via coordinate descent. You will:\n",
    "* Write a function to normalize features\n",
    "* Implement coordinate descent for LASSO\n",
    "* Explore effects of L1 penalty"
   ]
  },
  {
   "cell_type": "markdown",
   "metadata": {},
   "source": [
    "# Fire up graphlab create"
   ]
  },
  {
   "cell_type": "markdown",
   "metadata": {},
   "source": [
    "Make sure you have the latest version of graphlab (>= 1.7)"
   ]
  },
  {
   "cell_type": "code",
   "execution_count": 1,
   "metadata": {},
   "outputs": [],
   "source": [
    "import sklearn, numpy as np, sframe"
   ]
  },
  {
   "cell_type": "markdown",
   "metadata": {},
   "source": [
    "# Load in house sales data\n",
    "\n",
    "Dataset is from house sales in King County, the region where the city of Seattle, WA is located."
   ]
  },
  {
   "cell_type": "code",
   "execution_count": 2,
   "metadata": {},
   "outputs": [
    {
     "name": "stderr",
     "output_type": "stream",
     "text": [
      "[INFO] sframe.cython.cy_server: SFrame v2.1 started. Logging /tmp/sframe_server_1504072794.log\n"
     ]
    }
   ],
   "source": [
    "sales = sframe.SFrame('kc_house_data.gl/')\n",
    "# In the dataset, 'floors' was defined with type string, \n",
    "# so we'll convert them to int, before using it below\n",
    "sales['floors'] = sales['floors'].astype(int) "
   ]
  },
  {
   "cell_type": "markdown",
   "metadata": {},
   "source": [
    "If we want to do any \"feature engineering\" like creating new features or adjusting existing ones we should do this directly using the SFrames as seen in the first notebook of Week 2. For this notebook, however, we will work with the existing features."
   ]
  },
  {
   "cell_type": "markdown",
   "metadata": {},
   "source": [
    "# Import useful functions from previous notebook"
   ]
  },
  {
   "cell_type": "markdown",
   "metadata": {},
   "source": [
    "As in Week 2, we convert the SFrame into a 2D Numpy array. Copy and paste `get_num_data()` from the second notebook of Week 2."
   ]
  },
  {
   "cell_type": "code",
   "execution_count": 3,
   "metadata": {
    "collapsed": true
   },
   "outputs": [],
   "source": [
    "def get_numpy_data(data_sframe, features, output):\n",
    "    data_sframe['constant'] = 1 # this is how you add a constant column to an SFrame\n",
    "    # add the column 'constant' to the front of the features list so that we can extract it along with the others:\n",
    "    features = ['constant'] + features # this is how you combine two lists\n",
    "    # select the columns of data_SFrame given by the features list into the SFrame features_sframe (now including constant):\n",
    "    features_sframe = data_sframe[features]\n",
    "    # the following line will convert the features_SFrame into a numpy matrix:\n",
    "    feature_matrix = features_sframe.to_numpy()\n",
    "    # assign the column of data_sframe associated with the output to the SArray output_sarray\n",
    "    output_sarray = data_sframe[output]\n",
    "    # the following will convert the SArray into a numpy array by first converting it to a list\n",
    "    output_array = output_sarray.to_numpy()\n",
    "    return(feature_matrix, output_array)"
   ]
  },
  {
   "cell_type": "markdown",
   "metadata": {},
   "source": [
    "Also, copy and paste the `predict_output()` function to compute the predictions for an entire matrix of features given the matrix and the weights:"
   ]
  },
  {
   "cell_type": "code",
   "execution_count": 4,
   "metadata": {
    "collapsed": true
   },
   "outputs": [],
   "source": [
    "def predict_output(feature_matrix, weights):\n",
    "    # assume feature_matrix is a numpy matrix containing the features as columns and weights is a corresponding numpy array\n",
    "    # create the predictions vector by using np.dot()\n",
    "    predictions = np.dot(feature_matrix, weights)\n",
    "    return(predictions)"
   ]
  },
  {
   "cell_type": "markdown",
   "metadata": {},
   "source": [
    "# Normalize features\n",
    "In the house dataset, features vary wildly in their relative magnitude: `sqft_living` is very large overall compared to `bedrooms`, for instance. As a result, weight for `sqft_living` would be much smaller than weight for `bedrooms`. This is problematic because \"small\" weights are dropped first as `l1_penalty` goes up. \n",
    "\n",
    "To give equal considerations for all features, we need to **normalize features** as discussed in the lectures: we divide each feature by its 2-norm so that the transformed feature has norm 1.\n",
    "\n",
    "Let's see how we can do this normalization easily with Numpy: let us first consider a small matrix."
   ]
  },
  {
   "cell_type": "code",
   "execution_count": 5,
   "metadata": {},
   "outputs": [
    {
     "name": "stdout",
     "output_type": "stream",
     "text": [
      "[[  3.   5.   8.]\n",
      " [  4.  12.  15.]]\n"
     ]
    }
   ],
   "source": [
    "X = np.array([[3.,5.,8.],[4.,12.,15.]])\n",
    "print X"
   ]
  },
  {
   "cell_type": "markdown",
   "metadata": {},
   "source": [
    "Numpy provides a shorthand for computing 2-norms of each column:"
   ]
  },
  {
   "cell_type": "code",
   "execution_count": 16,
   "metadata": {},
   "outputs": [
    {
     "name": "stdout",
     "output_type": "stream",
     "text": [
      "[  5.  13.  17.]\n"
     ]
    }
   ],
   "source": [
    "norms = np.linalg.norm(X, axis=0) # gives [norm(X[:,0]), norm(X[:,1]), norm(X[:,2])]\n",
    "print norms"
   ]
  },
  {
   "cell_type": "markdown",
   "metadata": {},
   "source": [
    "To normalize, apply element-wise division:"
   ]
  },
  {
   "cell_type": "code",
   "execution_count": 7,
   "metadata": {},
   "outputs": [
    {
     "name": "stdout",
     "output_type": "stream",
     "text": [
      "[[ 0.6         0.38461538  0.47058824]\n",
      " [ 0.8         0.92307692  0.88235294]]\n"
     ]
    }
   ],
   "source": [
    "print X / norms # gives [X[:,0]/norm(X[:,0]), X[:,1]/norm(X[:,1]), X[:,2]/norm(X[:,2])]"
   ]
  },
  {
   "cell_type": "markdown",
   "metadata": {},
   "source": [
    "Using the shorthand we just covered, write a short function called `normalize_features(feature_matrix)`, which normalizes columns of a given feature matrix. The function should return a pair `(normalized_features, norms)`, where the second item contains the norms of original features. As discussed in the lectures, we will use these norms to normalize the test data in the same way as we normalized the training data. "
   ]
  },
  {
   "cell_type": "code",
   "execution_count": 12,
   "metadata": {
    "collapsed": true
   },
   "outputs": [],
   "source": [
    "def normalize_features(feature_matrix):\n",
    "    norms = np.linalg.norm(feature_matrix, axis=0)\n",
    "    normalized_features = feature_matrix / norms\n",
    "    return normalized_features, norms"
   ]
  },
  {
   "cell_type": "markdown",
   "metadata": {},
   "source": [
    "To test the function, run the following:"
   ]
  },
  {
   "cell_type": "code",
   "execution_count": 13,
   "metadata": {},
   "outputs": [
    {
     "name": "stdout",
     "output_type": "stream",
     "text": [
      "[[ 0.6  0.6  0.6]\n",
      " [ 0.8  0.8  0.8]]\n",
      "[  5.  10.  15.]\n"
     ]
    }
   ],
   "source": [
    "features, norms = normalize_features(np.array([[3.,6.,9.],[4.,8.,12.]]))\n",
    "print features\n",
    "# should print\n",
    "# [[ 0.6  0.6  0.6]\n",
    "#  [ 0.8  0.8  0.8]]\n",
    "print norms\n",
    "# should print\n",
    "# [5.  10.  15.]"
   ]
  },
  {
   "cell_type": "markdown",
   "metadata": {},
   "source": [
    "# Implementing Coordinate Descent with normalized features"
   ]
  },
  {
   "cell_type": "markdown",
   "metadata": {},
   "source": [
    "We seek to obtain a sparse set of weights by minimizing the LASSO cost function\n",
    "```\n",
    "SUM[ (prediction - output)^2 ] + lambda*( |w[1]| + ... + |w[k]|).\n",
    "```\n",
    "(By convention, we do not include `w[0]` in the L1 penalty term. We never want to push the intercept to zero.)\n",
    "\n",
    "The absolute value sign makes the cost function non-differentiable, so simple gradient descent is not viable (you would need to implement a method called subgradient descent). Instead, we will use **coordinate descent**: at each iteration, we will fix all weights but weight `i` and find the value of weight `i` that minimizes the objective. That is, we look for\n",
    "```\n",
    "argmin_{w[i]} [ SUM[ (prediction - output)^2 ] + lambda*( |w[1]| + ... + |w[k]|) ]\n",
    "```\n",
    "where all weights other than `w[i]` are held to be constant. We will optimize one `w[i]` at a time, circling through the weights multiple times.  \n",
    "  1. Pick a coordinate `i`\n",
    "  2. Compute `w[i]` that minimizes the cost function `SUM[ (prediction - output)^2 ] + lambda*( |w[1]| + ... + |w[k]|)`\n",
    "  3. Repeat Steps 1 and 2 for all coordinates, multiple times"
   ]
  },
  {
   "cell_type": "markdown",
   "metadata": {},
   "source": [
    "For this notebook, we use **cyclical coordinate descent with normalized features**, where we cycle through coordinates 0 to (d-1) in order, and assume the features were normalized as discussed above. The formula for optimizing each coordinate is as follows:\n",
    "```\n",
    "       ┌ (ro[i] + lambda/2)     if ro[i] < -lambda/2\n",
    "w[i] = ├ 0                      if -lambda/2 <= ro[i] <= lambda/2\n",
    "       └ (ro[i] - lambda/2)     if ro[i] > lambda/2\n",
    "```\n",
    "where\n",
    "```\n",
    "ro[i] = SUM[ [feature_i]*(output - prediction + w[i]*[feature_i]) ].\n",
    "```\n",
    "\n",
    "Note that we do not regularize the weight of the constant feature (intercept) `w[0]`, so, for this weight, the update is simply:\n",
    "```\n",
    "w[0] = ro[i]\n",
    "```"
   ]
  },
  {
   "cell_type": "markdown",
   "metadata": {},
   "source": [
    "## Effect of L1 penalty"
   ]
  },
  {
   "cell_type": "markdown",
   "metadata": {},
   "source": [
    "Let us consider a simple model with 2 features:"
   ]
  },
  {
   "cell_type": "code",
   "execution_count": 17,
   "metadata": {
    "collapsed": true
   },
   "outputs": [],
   "source": [
    "simple_features = ['sqft_living', 'bedrooms']\n",
    "my_output = 'price'\n",
    "(simple_feature_matrix, output) = get_numpy_data(sales, simple_features, my_output)"
   ]
  },
  {
   "cell_type": "markdown",
   "metadata": {},
   "source": [
    "Don't forget to normalize features:"
   ]
  },
  {
   "cell_type": "code",
   "execution_count": 18,
   "metadata": {
    "collapsed": true
   },
   "outputs": [],
   "source": [
    "simple_feature_matrix, norms = normalize_features(simple_feature_matrix)"
   ]
  },
  {
   "cell_type": "markdown",
   "metadata": {},
   "source": [
    "We assign some random set of initial weights and inspect the values of `ro[i]`:"
   ]
  },
  {
   "cell_type": "code",
   "execution_count": 21,
   "metadata": {},
   "outputs": [],
   "source": [
    "weights = np.array([1., 4., 1.])"
   ]
  },
  {
   "cell_type": "markdown",
   "metadata": {},
   "source": [
    "Use `predict_output()` to make predictions on this data."
   ]
  },
  {
   "cell_type": "code",
   "execution_count": 24,
   "metadata": {},
   "outputs": [
    {
     "name": "stdout",
     "output_type": "stream",
     "text": [
      "[ 0.02675867  0.04339256  0.01990703 ...,  0.02289873  0.03178473\n",
      "  0.02289873]\n"
     ]
    }
   ],
   "source": [
    "prediction = predict_output(simple_feature_matrix, weights)\n",
    "print prediction"
   ]
  },
  {
   "cell_type": "markdown",
   "metadata": {},
   "source": [
    "Compute the values of `ro[i]` for each feature in this simple model, using the formula given above, using the formula:\n",
    "```\n",
    "ro[i] = SUM[ [feature_i]*(output - prediction + w[i]*[feature_i]) ]\n",
    "```\n",
    "\n",
    "*Hint: You can get a Numpy vector for feature_i using:*\n",
    "```\n",
    "simple_feature_matrix[:,i]\n",
    "```"
   ]
  },
  {
   "cell_type": "code",
   "execution_count": 41,
   "metadata": {},
   "outputs": [
    {
     "name": "stdout",
     "output_type": "stream",
     "text": [
      "79400300.0349\n",
      "87939470.773\n",
      "80966698.676\n"
     ]
    }
   ],
   "source": [
    "for i in range(len(simple_features)+1):\n",
    "    ro = np.dot(simple_feature_matrix[:,i],(output - prediction + weights[i] * simple_feature_matrix[:,i]))\n",
    "    print ro "
   ]
  },
  {
   "cell_type": "markdown",
   "metadata": {},
   "source": [
    "***QUIZ QUESTION***\n",
    "\n",
    "Recall that, whenever `ro[i]` falls between `-l1_penalty/2` and `l1_penalty/2`, the corresponding weight `w[i]` is sent to zero. Now suppose we were to take one step of coordinate descent on either feature 1 or feature 2. What range of values of `l1_penalty` **would not** set `w[1]` zero, but **would** set `w[2]` to zero, if we were to take a step in that coordinate? "
   ]
  },
  {
   "cell_type": "code",
   "execution_count": null,
   "metadata": {},
   "outputs": [],
   "source": []
  },
  {
   "cell_type": "markdown",
   "metadata": {},
   "source": [
    "***QUIZ QUESTION***\n",
    "\n",
    "What range of values of `l1_penalty` would set **both** `w[1]` and `w[2]` to zero, if we were to take a step in that coordinate? "
   ]
  },
  {
   "cell_type": "code",
   "execution_count": null,
   "metadata": {},
   "outputs": [],
   "source": []
  },
  {
   "cell_type": "markdown",
   "metadata": {},
   "source": [
    "So we can say that `ro[i]` quantifies the significance of the i-th feature: the larger `ro[i]` is, the more likely it is for the i-th feature to be retained."
   ]
  },
  {
   "cell_type": "markdown",
   "metadata": {},
   "source": [
    "## Single Coordinate Descent Step"
   ]
  },
  {
   "cell_type": "markdown",
   "metadata": {},
   "source": [
    "Using the formula above, implement coordinate descent that minimizes the cost function over a single feature i. Note that the intercept (weight 0) is not regularized. The function should accept feature matrix, output, current weights, l1 penalty, and index of feature to optimize over. The function should return new weight for feature i."
   ]
  },
  {
   "cell_type": "code",
   "execution_count": 43,
   "metadata": {
    "collapsed": true
   },
   "outputs": [],
   "source": [
    "def lasso_coordinate_descent_step(i, feature_matrix, output, weights, l1_penalty):\n",
    "    # compute prediction\n",
    "    prediction = predict_output(feature_matrix, weights)\n",
    "    # compute ro[i] = SUM[ [feature_i]*(output - prediction + weight[i]*[feature_i]) ]\n",
    "    ro_i = np.dot(feature_matrix[:,i], (output - prediction + weights[i] * feature_matrix[:,i]))\n",
    "    if i == 0: # intercept -- do not regularize\n",
    "        new_weight_i = ro_i \n",
    "    elif ro_i < -l1_penalty/2.:\n",
    "        new_weight_i = ro_i + l1_penalty / 2\n",
    "    elif ro_i > l1_penalty/2.:\n",
    "        new_weight_i = ro_i - l1_penalty / 2\n",
    "    else:\n",
    "        new_weight_i = 0.\n",
    "    \n",
    "    return new_weight_i"
   ]
  },
  {
   "cell_type": "markdown",
   "metadata": {},
   "source": [
    "To test the function, run the following cell:"
   ]
  },
  {
   "cell_type": "code",
   "execution_count": 44,
   "metadata": {},
   "outputs": [
    {
     "name": "stdout",
     "output_type": "stream",
     "text": [
      "0.425558846691\n"
     ]
    }
   ],
   "source": [
    "# should print 0.425558846691\n",
    "import math\n",
    "print lasso_coordinate_descent_step(1, np.array([[3./math.sqrt(13),1./math.sqrt(10)],[2./math.sqrt(13),3./math.sqrt(10)]]), \n",
    "                                   np.array([1., 1.]), np.array([1., 4.]), 0.1)"
   ]
  },
  {
   "cell_type": "markdown",
   "metadata": {
    "collapsed": true
   },
   "source": [
    "## Cyclical coordinate descent "
   ]
  },
  {
   "cell_type": "markdown",
   "metadata": {},
   "source": [
    "Now that we have a function that optimizes the cost function over a single coordinate, let us implement cyclical coordinate descent where we optimize coordinates 0, 1, ..., (d-1) in order and repeat.\n",
    "\n",
    "When do we know to stop? Each time we scan all the coordinates (features) once, we measure the change in weight for each coordinate. If no coordinate changes by more than a specified threshold, we stop."
   ]
  },
  {
   "cell_type": "markdown",
   "metadata": {},
   "source": [
    "For each iteration:\n",
    "1. As you loop over features in order and perform coordinate descent, measure how much each coordinate changes.\n",
    "2. After the loop, if the maximum change across all coordinates is falls below the tolerance, stop. Otherwise, go back to step 1.\n",
    "\n",
    "Return weights\n",
    "\n",
    "**IMPORTANT: when computing a new weight for coordinate i, make sure to incorporate the new weights for coordinates 0, 1, ..., i-1. One good way is to update your weights variable in-place. See following pseudocode for illustration.**\n",
    "```\n",
    "for i in range(len(weights)):\n",
    "    old_weights_i = weights[i] # remember old value of weight[i], as it will be overwritten\n",
    "    # the following line uses new values for weight[0], weight[1], ..., weight[i-1]\n",
    "    #     and old values for weight[i], ..., weight[d-1]\n",
    "    weights[i] = lasso_coordinate_descent_step(i, feature_matrix, output, weights, l1_penalty)\n",
    "    \n",
    "    # use old_weights_i to compute change in coordinate\n",
    "    ...\n",
    "```"
   ]
  },
  {
   "cell_type": "code",
   "execution_count": 83,
   "metadata": {},
   "outputs": [],
   "source": [
    "def lasso_cyclical_coordinate_descent(feature_matrix, output, initial_weights, l1_penalty, tolerance):\n",
    "    max_change = None\n",
    "    weights = initial_weights\n",
    "    timer = 0\n",
    "    while max_change > tolerance or max_change is None:\n",
    "#         print \"Iteration: \", timer\n",
    "        max_change = None\n",
    "        count = 0\n",
    "        for i in range(len(weights)):\n",
    "            old_weights_i = weights[i]\n",
    "#             print \"Old weight for \", i, old_weights_i\n",
    "            weights[i] = lasso_coordinate_descent_step(i, feature_matrix, output, weights, l1_penalty)\n",
    "            change = np.abs(weights[i] - old_weights_i)\n",
    "            if max_change is None or change > max_change:\n",
    "                max_change = change\n",
    "                count = i\n",
    "#         print \"Max step\", max_change\n",
    "        timer += 1\n",
    "    return weights"
   ]
  },
  {
   "cell_type": "markdown",
   "metadata": {},
   "source": [
    "Using the following parameters, learn the weights on the sales dataset. "
   ]
  },
  {
   "cell_type": "code",
   "execution_count": 70,
   "metadata": {},
   "outputs": [],
   "source": [
    "simple_features = ['sqft_living', 'bedrooms']\n",
    "my_output = 'price'\n",
    "initial_weights = np.zeros(3)\n",
    "l1_penalty = 1e7\n",
    "tolerance = 1.0"
   ]
  },
  {
   "cell_type": "markdown",
   "metadata": {},
   "source": [
    "First create a normalized version of the feature matrix, `normalized_simple_feature_matrix`."
   ]
  },
  {
   "cell_type": "code",
   "execution_count": 63,
   "metadata": {
    "collapsed": true
   },
   "outputs": [],
   "source": [
    "(simple_feature_matrix, output) = get_numpy_data(sales, simple_features, my_output)\n",
    "(normalized_simple_feature_matrix, simple_norms) = normalize_features(simple_feature_matrix) # normalize features"
   ]
  },
  {
   "cell_type": "markdown",
   "metadata": {},
   "source": [
    "Then, run your implementation of LASSO coordinate descent:"
   ]
  },
  {
   "cell_type": "code",
   "execution_count": 71,
   "metadata": {},
   "outputs": [
    {
     "name": "stdout",
     "output_type": "stream",
     "text": [
      "Iteration:  0\n",
      "Old weight for  0 0.0\n",
      "Old weight for  1 0.0\n",
      "Old weight for  2 0.0\n",
      "Max step 79400304.6581\n",
      "Iteration:  1\n",
      "Old weight for  0 79400304.6581\n",
      "Old weight for  1 10305258.636\n",
      "Old weight for  2 -299724.114499\n",
      "Max step 9138168.3665\n",
      "Iteration:  2\n",
      "Old weight for  0 70262136.2916\n",
      "Old weight for  1 18947595.6347\n",
      "Old weight for  2 0.0\n",
      "Max step 8194809.40937\n",
      "Iteration:  3\n",
      "Old weight for  0 62067326.8822\n",
      "Old weight for  1 26161208.0858\n",
      "Old weight for  2 0.0\n",
      "Max step 6598905.03827\n",
      "Iteration:  4\n",
      "Old weight for  0 55468421.8439\n",
      "Old weight for  1 32197787.9547\n",
      "Old weight for  2 0.0\n",
      "Max step 5522173.1943\n",
      "Iteration:  5\n",
      "Old weight for  0 49946248.6496\n",
      "Old weight for  1 37249389.5983\n",
      "Old weight for  2 0.0\n",
      "Max step 4621129.81031\n",
      "Iteration:  6\n",
      "Old weight for  0 45325118.8393\n",
      "Old weight for  1 41476730.1985\n",
      "Old weight for  2 0.0\n",
      "Max step 3867108.10625\n",
      "Iteration:  7\n",
      "Old weight for  0 41458010.7331\n",
      "Old weight for  1 45014302.9942\n",
      "Old weight for  2 0.0\n",
      "Max step 3236118.81061\n",
      "Iteration:  8\n",
      "Old weight for  0 38221891.9224\n",
      "Old weight for  1 47974656.1971\n",
      "Old weight for  2 0.0\n",
      "Max step 2708086.93955\n",
      "Iteration:  9\n",
      "Old weight for  0 35513804.9829\n",
      "Old weight for  1 50451973.7229\n",
      "Old weight for  2 0.0\n",
      "Max step 2266213.1094\n",
      "Iteration:  10\n",
      "Old weight for  0 33247591.8735\n",
      "Old weight for  1 52525071.662\n",
      "Old weight for  2 0.0\n",
      "Max step 1896439.06265\n",
      "Iteration:  11\n",
      "Old weight for  0 31351152.8108\n",
      "Old weight for  1 54259905.8204\n",
      "Old weight for  2 0.0\n",
      "Max step 1587000.40319\n",
      "Iteration:  12\n",
      "Old weight for  0 29764152.4077\n",
      "Old weight for  1 55711670.1101\n",
      "Old weight for  2 0.0\n",
      "Max step 1328052.31095\n",
      "Iteration:  13\n",
      "Old weight for  0 28436100.0967\n",
      "Old weight for  1 56926552.5487\n",
      "Old weight for  2 0.0\n",
      "Max step 1111356.328\n",
      "Iteration:  14\n",
      "Old weight for  0 27324743.7687\n",
      "Old weight for  1 57943204.7354\n",
      "Old weight for  2 0.0\n",
      "Max step 930018.251241\n",
      "Iteration:  15\n",
      "Old weight for  0 26394725.5175\n",
      "Old weight for  1 58793971.5551\n",
      "Old weight for  2 0.0\n",
      "Max step 778268.79269\n",
      "Iteration:  16\n",
      "Old weight for  0 25616456.7248\n",
      "Old weight for  1 59505920.2344\n",
      "Old weight for  2 0.0\n",
      "Max step 651280.029038\n",
      "Iteration:  17\n",
      "Old weight for  0 24965176.6957\n",
      "Old weight for  1 60101701.4874\n",
      "Old weight for  2 0.0\n",
      "Max step 545011.800818\n",
      "Iteration:  18\n",
      "Old weight for  0 24420164.8949\n",
      "Old weight for  1 60600270.1509\n",
      "Old weight for  2 0.0\n",
      "Max step 456083.174344\n",
      "Iteration:  19\n",
      "Old weight for  0 23964081.7206\n",
      "Old weight for  1 61017488.2337\n",
      "Old weight for  2 0.0\n",
      "Max step 381664.876995\n",
      "Iteration:  20\n",
      "Old weight for  0 23582416.8436\n",
      "Old weight for  1 61366629.5685\n",
      "Old weight for  2 0.0\n",
      "Max step 319389.283634\n",
      "Iteration:  21\n",
      "Old weight for  0 23263027.5599\n",
      "Old weight for  1 61658802.1197\n",
      "Old weight for  2 0.0\n",
      "Max step 267275.090398\n",
      "Iteration:  22\n",
      "Old weight for  0 22995752.4695\n",
      "Old weight for  1 61903301.3844\n",
      "Old weight for  2 0.0\n",
      "Max step 223664.279321\n",
      "Iteration:  23\n",
      "Old weight for  0 22772088.1902\n",
      "Old weight for  1 62107906.1299\n",
      "Old weight for  2 0.0\n",
      "Max step 187169.368346\n",
      "Iteration:  24\n",
      "Old weight for  0 22584918.8219\n",
      "Old weight for  1 62279125.8754\n",
      "Old weight for  2 0.0\n",
      "Max step 156629.268444\n",
      "Iteration:  25\n",
      "Old weight for  0 22428289.5534\n",
      "Old weight for  1 62422407.9932\n",
      "Old weight for  2 0.0\n",
      "Max step 131072.343461\n",
      "Iteration:  26\n",
      "Old weight for  0 22297217.21\n",
      "Old weight for  1 62542311.0173\n",
      "Old weight for  2 0.0\n",
      "Max step 109685.497423\n",
      "Iteration:  27\n",
      "Old weight for  0 22187531.7125\n",
      "Old weight for  1 62642649.6737\n",
      "Old weight for  2 0.0\n",
      "Max step 91788.3058116\n",
      "Iteration:  28\n",
      "Old weight for  0 22095743.4067\n",
      "Old weight for  1 62726616.2464\n",
      "Old weight for  2 0.0\n",
      "Max step 76811.3677894\n",
      "Iteration:  29\n",
      "Old weight for  0 22018932.0389\n",
      "Old weight for  1 62796882.1395\n",
      "Old weight for  2 0.0\n",
      "Max step 64278.190664\n",
      "Iteration:  30\n",
      "Old weight for  0 21954653.8483\n",
      "Old weight for  1 62855682.8693\n",
      "Old weight for  2 0.0\n",
      "Max step 53790.0302253\n",
      "Iteration:  31\n",
      "Old weight for  0 21900863.8181\n",
      "Old weight for  1 62904889.1863\n",
      "Old weight for  2 0.0\n",
      "Max step 45013.2046617\n",
      "Iteration:  32\n",
      "Old weight for  0 21855850.6134\n",
      "Old weight for  1 62946066.5943\n",
      "Old weight for  2 0.0\n",
      "Max step 37668.4784415\n",
      "Iteration:  33\n",
      "Old weight for  0 21818182.135\n",
      "Old weight for  1 62980525.1564\n",
      "Old weight for  2 0.0\n",
      "Max step 31522.1784089\n",
      "Iteration:  34\n",
      "Old weight for  0 21786659.9565\n",
      "Old weight for  1 63009361.1749\n",
      "Old weight for  2 0.0\n",
      "Max step 26378.7594496\n",
      "Iteration:  35\n",
      "Old weight for  0 21760281.1971\n",
      "Old weight for  1 63033492.0704\n",
      "Old weight for  2 0.0\n",
      "Max step 22074.5832053\n",
      "Iteration:  36\n",
      "Old weight for  0 21738206.6139\n",
      "Old weight for  1 63053685.5698\n",
      "Old weight for  2 0.0\n",
      "Max step 18472.7119036\n",
      "Iteration:  37\n",
      "Old weight for  0 21719733.902\n",
      "Old weight for  1 63070584.131\n",
      "Old weight for  2 0.0\n",
      "Max step 15458.5516701\n",
      "Iteration:  38\n",
      "Old weight for  0 21704275.3503\n",
      "Old weight for  1 63084725.3834\n",
      "Old weight for  2 0.0\n",
      "Max step 12936.2067131\n",
      "Iteration:  39\n",
      "Old weight for  0 21691339.1436\n",
      "Old weight for  1 63096559.2323\n",
      "Old weight for  2 0.0\n",
      "Max step 10825.4283904\n",
      "Iteration:  40\n",
      "Old weight for  0 21680513.7152\n",
      "Old weight for  1 63106462.1727\n",
      "Old weight for  2 0.0\n",
      "Max step 9059.06209101\n",
      "Iteration:  41\n",
      "Old weight for  0 21671454.6531\n",
      "Old weight for  1 63114749.2675\n",
      "Old weight for  2 0.0\n",
      "Max step 7580.91070477\n",
      "Iteration:  42\n",
      "Old weight for  0 21663873.7424\n",
      "Old weight for  1 63121684.1715\n",
      "Old weight for  2 0.0\n",
      "Max step 6343.94670621\n",
      "Iteration:  43\n",
      "Old weight for  0 21657529.7957\n",
      "Old weight for  1 63127487.5193\n",
      "Old weight for  2 0.0\n",
      "Max step 5308.81596931\n",
      "Iteration:  44\n",
      "Old weight for  0 21652220.9797\n",
      "Old weight for  1 63132343.9449\n",
      "Old weight for  2 0.0\n",
      "Max step 4442.58571219\n",
      "Iteration:  45\n",
      "Old weight for  0 21647778.394\n",
      "Old weight for  1 63136407.956\n",
      "Old weight for  2 0.0\n",
      "Max step 3717.6967377\n",
      "Iteration:  46\n",
      "Old weight for  0 21644060.6973\n",
      "Old weight for  1 63139808.8495\n",
      "Old weight for  2 0.0\n",
      "Max step 3111.08663489\n",
      "Iteration:  47\n",
      "Old weight for  0 21640949.6107\n",
      "Old weight for  1 63142654.8252\n",
      "Old weight for  2 0.0\n",
      "Max step 2603.45604621\n",
      "Iteration:  48\n",
      "Old weight for  0 21638346.1546\n",
      "Old weight for  1 63145036.4279\n",
      "Old weight for  2 0.0\n",
      "Max step 2178.65465674\n",
      "Iteration:  49\n",
      "Old weight for  0 21636167.5\n",
      "Old weight for  1 63147029.4287\n",
      "Old weight for  2 0.0\n",
      "Max step 1823.16737023\n",
      "Iteration:  50\n",
      "Old weight for  0 21634344.3326\n",
      "Old weight for  1 63148697.235\n",
      "Old weight for  2 0.0\n",
      "Max step 1525.68432523\n",
      "Iteration:  51\n",
      "Old weight for  0 21632818.6483\n",
      "Old weight for  1 63150092.9083\n",
      "Old weight for  2 0.0\n",
      "Max step 1276.74107066\n",
      "Iteration:  52\n",
      "Old weight for  0 21631541.9072\n",
      "Old weight for  1 63151260.8519\n",
      "Old weight for  2 0.0\n",
      "Max step 1068.41745343\n",
      "Iteration:  53\n",
      "Old weight for  0 21630473.4897\n",
      "Old weight for  1 63152238.2243\n",
      "Old weight for  2 0.0\n",
      "Max step 894.085638065\n",
      "Iteration:  54\n",
      "Old weight for  0 21629579.4041\n",
      "Old weight for  1 63153056.1205\n",
      "Old weight for  2 0.0\n",
      "Max step 748.199241444\n",
      "Iteration:  55\n",
      "Old weight for  0 21628831.2049\n",
      "Old weight for  1 63153740.562\n",
      "Old weight for  2 0.0\n",
      "Max step 626.11687411\n",
      "Iteration:  56\n",
      "Old weight for  0 21628205.088\n",
      "Old weight for  1 63154313.3244\n",
      "Old weight for  2 0.0\n",
      "Max step 523.954474047\n",
      "Iteration:  57\n",
      "Old weight for  0 21627681.1335\n",
      "Old weight for  1 63154792.6301\n",
      "Old weight for  2 0.0\n",
      "Max step 438.461734913\n",
      "Iteration:  58\n",
      "Old weight for  0 21627242.6718\n",
      "Old weight for  1 63155193.7284\n",
      "Old weight for  2 0.0\n",
      "Max step 366.918697149\n",
      "Iteration:  59\n",
      "Old weight for  0 21626875.7531\n",
      "Old weight for  1 63155529.3801\n",
      "Old weight for  2 0.0\n",
      "Max step 307.049212292\n",
      "Iteration:  60\n",
      "Old weight for  0 21626568.7039\n",
      "Old weight for  1 63155810.2641\n",
      "Old weight for  2 0.0\n",
      "Max step 256.948526978\n",
      "Iteration:  61\n",
      "Old weight for  0 21626311.7553\n",
      "Old weight for  1 63156045.3168\n",
      "Old weight for  2 0.0\n",
      "Max step 215.0226833\n",
      "Iteration:  62\n",
      "Old weight for  0 21626096.7327\n",
      "Old weight for  1 63156242.0164\n",
      "Old weight for  2 0.0\n",
      "Max step 179.937806472\n",
      "Iteration:  63\n",
      "Old weight for  0 21625916.7948\n",
      "Old weight for  1 63156406.6208\n",
      "Old weight for  2 0.0\n",
      "Max step 150.577667948\n",
      "Iteration:  64\n",
      "Old weight for  0 21625766.2172\n",
      "Old weight for  1 63156544.367\n",
      "Old weight for  2 0.0\n",
      "Max step 126.008172076\n",
      "Iteration:  65\n",
      "Old weight for  0 21625640.209\n",
      "Old weight for  1 63156659.6374\n",
      "Old weight for  2 0.0\n",
      "Max step 105.447638087\n",
      "Iteration:  66\n",
      "Old weight for  0 21625534.7614\n",
      "Old weight for  1 63156756.0993\n",
      "Old weight for  2 0.0\n",
      "Max step 88.2419305816\n",
      "Iteration:  67\n",
      "Old weight for  0 21625446.5194\n",
      "Old weight for  1 63156836.8217\n",
      "Old weight for  2 0.0\n",
      "Max step 73.8436484337\n",
      "Iteration:  68\n",
      "Old weight for  0 21625372.6758\n",
      "Old weight for  1 63156904.3728\n",
      "Old weight for  2 0.0\n",
      "Max step 61.7947089039\n",
      "Iteration:  69\n",
      "Old weight for  0 21625310.8811\n",
      "Old weight for  1 63156960.9017\n",
      "Old weight for  2 0.0\n",
      "Max step 51.7117738575\n",
      "Iteration:  70\n",
      "Old weight for  0 21625259.1693\n",
      "Old weight for  1 63157008.2068\n",
      "Old weight for  2 0.0\n",
      "Max step 43.2740537673\n",
      "Iteration:  71\n",
      "Old weight for  0 21625215.8953\n",
      "Old weight for  1 63157047.7933\n",
      "Old weight for  2 0.0\n",
      "Max step 36.2131017856\n",
      "Iteration:  72\n",
      "Old weight for  0 21625179.6822\n",
      "Old weight for  1 63157080.9205\n",
      "Old weight for  2 0.0\n",
      "Max step 30.3042730205\n",
      "Iteration:  73\n",
      "Old weight for  0 21625149.3779\n",
      "Old weight for  1 63157108.6424\n",
      "Old weight for  2 0.0\n",
      "Max step 25.3595775627\n",
      "Iteration:  74\n",
      "Old weight for  0 21625124.0183\n",
      "Old weight for  1 63157131.8409\n",
      "Old weight for  2 0.0\n",
      "Max step 21.2216994688\n",
      "Iteration:  75\n",
      "Old weight for  0 21625102.7966\n",
      "Old weight for  1 63157151.2542\n",
      "Old weight for  2 0.0\n",
      "Max step 17.7589916885\n",
      "Iteration:  76\n",
      "Old weight for  0 21625085.0376\n",
      "Old weight for  1 63157167.4999\n",
      "Old weight for  2 0.0\n",
      "Max step 14.8612879515\n",
      "Iteration:  77\n",
      "Old weight for  0 21625070.1763\n",
      "Old weight for  1 63157181.0948\n",
      "Old weight for  2 0.0\n",
      "Max step 12.436397478\n",
      "Iteration:  78\n",
      "Old weight for  0 21625057.7399\n",
      "Old weight for  1 63157192.4714\n",
      "Old weight for  2 0.0\n",
      "Max step 10.4071721658\n",
      "Iteration:  79\n",
      "Old weight for  0 21625047.3328\n",
      "Old weight for  1 63157201.9917\n",
      "Old weight for  2 0.0\n",
      "Max step 8.70905200392\n",
      "Iteration:  80\n",
      "Old weight for  0 21625038.6237\n",
      "Old weight for  1 63157209.9586\n",
      "Old weight for  2 0.0\n",
      "Max step 7.28801114857\n",
      "Iteration:  81\n",
      "Old weight for  0 21625031.3357\n",
      "Old weight for  1 63157216.6256\n",
      "Old weight for  2 0.0\n",
      "Max step 6.09883906692\n",
      "Iteration:  82\n",
      "Old weight for  0 21625025.2369\n",
      "Old weight for  1 63157222.2047\n",
      "Old weight for  2 0.0\n",
      "Max step 5.10370212048\n",
      "Iteration:  83\n",
      "Old weight for  0 21625020.1331\n",
      "Old weight for  1 63157226.8735\n",
      "Old weight for  2 0.0\n",
      "Max step 4.27093993127\n",
      "Iteration:  84\n",
      "Old weight for  0 21625015.8622\n",
      "Old weight for  1 63157230.7805\n",
      "Old weight for  2 0.0\n",
      "Max step 3.57405808568\n",
      "Iteration:  85\n",
      "Old weight for  0 21625012.2882\n",
      "Old weight for  1 63157234.05\n",
      "Old weight for  2 0.0\n",
      "Max step 2.99088525027\n",
      "Iteration:  86\n",
      "Old weight for  0 21625009.2973\n",
      "Old weight for  1 63157236.786\n",
      "Old weight for  2 0.0\n",
      "Max step 2.50286770985\n",
      "Iteration:  87\n",
      "Old weight for  0 21625006.7944\n",
      "Old weight for  1 63157239.0756\n",
      "Old weight for  2 0.0\n",
      "Max step 2.09447913989\n",
      "Iteration:  88\n",
      "Old weight for  0 21625004.6999\n",
      "Old weight for  1 63157240.9916\n",
      "Old weight for  2 0.0\n",
      "Max step 1.75272664428\n",
      "Iteration:  89\n",
      "Old weight for  0 21625002.9472\n",
      "Old weight for  1 63157242.595\n",
      "Old weight for  2 0.0\n",
      "Max step 1.46673727036\n",
      "Iteration:  90\n",
      "Old weight for  0 21625001.4805\n",
      "Old weight for  1 63157243.9367\n",
      "Old weight for  2 0.0\n",
      "Max step 1.22741233557\n",
      "Iteration:  91\n",
      "Old weight for  0 21625000.253\n",
      "Old weight for  1 63157245.0595\n",
      "Old weight for  2 0.0\n",
      "Max step 1.02713758126\n",
      "Iteration:  92\n",
      "Old weight for  0 21624999.2259\n",
      "Old weight for  1 63157245.9992\n",
      "Old weight for  2 0.0\n",
      "Max step 0.859541337937\n",
      "[ 21624998.36636291  63157246.78545424         0.        ]\n"
     ]
    }
   ],
   "source": [
    "weights = lasso_cyclical_coordinate_descent(normalized_simple_feature_matrix, output,\n",
    "                                            initial_weights, l1_penalty, tolerance)\n",
    "print weights"
   ]
  },
  {
   "cell_type": "code",
   "execution_count": 72,
   "metadata": {},
   "outputs": [
    {
     "name": "stdout",
     "output_type": "stream",
     "text": [
      "1.00651465608e+16\n"
     ]
    }
   ],
   "source": [
    "predictions = predict_output(normalized_simple_feature_matrix, weights)\n",
    "RSS = ((prediction - output) ** 2).sum() + l1_penalty * np.abs(weights).sum()\n",
    "print RSS"
   ]
  },
  {
   "cell_type": "markdown",
   "metadata": {},
   "source": [
    "***QUIZ QUESTIONS***\n",
    "1. What is the RSS of the learned model on the normalized dataset? (Hint: use the normalized feature matrix when you make predictions.)\n",
    "2. Which features had weight zero at convergence?"
   ]
  },
  {
   "cell_type": "markdown",
   "metadata": {},
   "source": [
    "# Evaluating LASSO fit with more features"
   ]
  },
  {
   "cell_type": "markdown",
   "metadata": {},
   "source": [
    "Let us split the sales dataset into training and test sets."
   ]
  },
  {
   "cell_type": "code",
   "execution_count": 73,
   "metadata": {
    "collapsed": true
   },
   "outputs": [],
   "source": [
    "train_data,test_data = sales.random_split(.8,seed=0)"
   ]
  },
  {
   "cell_type": "markdown",
   "metadata": {},
   "source": [
    "Let us consider the following set of features."
   ]
  },
  {
   "cell_type": "code",
   "execution_count": 74,
   "metadata": {
    "collapsed": true
   },
   "outputs": [],
   "source": [
    "all_features = ['bedrooms',\n",
    "                'bathrooms',\n",
    "                'sqft_living',\n",
    "                'sqft_lot',\n",
    "                'floors',\n",
    "                'waterfront', \n",
    "                'view', \n",
    "                'condition', \n",
    "                'grade',\n",
    "                'sqft_above',\n",
    "                'sqft_basement',\n",
    "                'yr_built', \n",
    "                'yr_renovated']"
   ]
  },
  {
   "cell_type": "markdown",
   "metadata": {},
   "source": [
    "First, create a normalized feature matrix from the TRAINING data with these features.  (Make you store the norms for the normalization, since we'll use them later)"
   ]
  },
  {
   "cell_type": "code",
   "execution_count": 80,
   "metadata": {},
   "outputs": [],
   "source": [
    "(full_matrix, output) = get_numpy_data(train_data, all_features, my_output)\n",
    "normalized_full_matrix, norm = normalize_features(full_matrix)"
   ]
  },
  {
   "cell_type": "markdown",
   "metadata": {},
   "source": [
    "First, learn the weights with `l1_penalty=1e7`, on the training data. Initialize weights to all zeros, and set the `tolerance=1`.  Call resulting weights `weights1e7`, you will need them later."
   ]
  },
  {
   "cell_type": "code",
   "execution_count": 98,
   "metadata": {},
   "outputs": [
    {
     "name": "stdout",
     "output_type": "stream",
     "text": [
      "[('constant', 24429600.609333135), ('bedrooms', 0.0), ('bathrooms', 0.0), ('sqft_living', 48389174.352279782), ('sqft_lot', 0.0), ('floors', 0.0), ('waterfront', 3317511.1627198132), ('view', 7329961.9848963991), ('condition', 0.0), ('grade', 0.0), ('sqft_above', 0.0), ('sqft_basement', 0.0), ('yr_built', 0.0), ('yr_renovated', 0.0)]\n"
     ]
    }
   ],
   "source": [
    "initial_weights = np.zeros(len(all_features) + 1)\n",
    "l1_penalty = 1e7\n",
    "tolerance = 1.0\n",
    "weights1e7 = lasso_cyclical_coordinate_descent(feature_matrix=normalized_full_matrix, initial_weights=initial_weights, l1_penalty=l1_penalty, output=output, tolerance=tolerance)\n",
    "\n",
    "print zip(['constant'] + all_features, weights1e7)"
   ]
  },
  {
   "cell_type": "markdown",
   "metadata": {},
   "source": [
    "***QUIZ QUESTION***\n",
    "\n",
    "What features had non-zero weight in this case?"
   ]
  },
  {
   "cell_type": "markdown",
   "metadata": {
    "collapsed": true
   },
   "source": [
    "Next, learn the weights with `l1_penalty=1e8`, on the training data. Initialize weights to all zeros, and set the `tolerance=1`.  Call resulting weights `weights1e8`, you will need them later."
   ]
  },
  {
   "cell_type": "code",
   "execution_count": 103,
   "metadata": {},
   "outputs": [
    {
     "name": "stdout",
     "output_type": "stream",
     "text": [
      "[('constant', 71114625.752809376), ('bedrooms', 0.0), ('bathrooms', 0.0), ('sqft_living', 0.0), ('sqft_lot', 0.0), ('floors', 0.0), ('waterfront', 0.0), ('view', 0.0), ('condition', 0.0), ('grade', 0.0), ('sqft_above', 0.0), ('sqft_basement', 0.0), ('yr_built', 0.0), ('yr_renovated', 0.0)]\n"
     ]
    }
   ],
   "source": [
    "initial_weights = np.zeros(len(all_features) + 1)\n",
    "l1_penalty = 1e8\n",
    "tolerance = 1.0\n",
    "weights1e8 = lasso_cyclical_coordinate_descent(feature_matrix=normalized_full_matrix, initial_weights=initial_weights, l1_penalty=l1_penalty, output=output, tolerance=tolerance)\n",
    "\n",
    "print zip(['constant'] + all_features, weights1e8)"
   ]
  },
  {
   "cell_type": "markdown",
   "metadata": {},
   "source": [
    "***QUIZ QUESTION***\n",
    "\n",
    "What features had non-zero weight in this case?"
   ]
  },
  {
   "cell_type": "markdown",
   "metadata": {},
   "source": [
    "Finally, learn the weights with `l1_penalty=1e4`, on the training data. Initialize weights to all zeros, and set the `tolerance=5e5`.  Call resulting weights `weights1e4`, you will need them later.  (This case will take quite a bit longer to converge than the others above.)"
   ]
  },
  {
   "cell_type": "code",
   "execution_count": 104,
   "metadata": {},
   "outputs": [
    {
     "name": "stdout",
     "output_type": "stream",
     "text": [
      "[('constant', 77779073.912652552), ('bedrooms', -22884012.25023362), ('bathrooms', 15348487.080899941), ('sqft_living', 92166869.698830724), ('sqft_lot', -2139328.0824278011), ('floors', -8818455.5440949611), ('waterfront', 6494209.7331065517), ('view', 7065162.0505319713), ('condition', 4119079.2100675944), ('grade', 18436483.526187748), ('sqft_above', -14566678.545143345), ('sqft_basement', -5528348.7517942516), ('yr_built', -83591746.20730558), ('yr_renovated', 2784276.4601285751)]\n"
     ]
    }
   ],
   "source": [
    "initial_weights = np.zeros(len(all_features) + 1)\n",
    "l1_penalty = 1e4\n",
    "tolerance = 5e5\n",
    "weights1e4 = lasso_cyclical_coordinate_descent(feature_matrix=normalized_full_matrix, initial_weights=initial_weights, l1_penalty=l1_penalty, output=output, tolerance=tolerance)\n",
    "\n",
    "print zip(['constant'] + all_features, weights1e4)"
   ]
  },
  {
   "cell_type": "markdown",
   "metadata": {},
   "source": [
    "***QUIZ QUESTION***\n",
    "\n",
    "What features had non-zero weight in this case?"
   ]
  },
  {
   "cell_type": "markdown",
   "metadata": {},
   "source": [
    "## Rescaling learned weights"
   ]
  },
  {
   "cell_type": "markdown",
   "metadata": {},
   "source": [
    "Recall that we normalized our feature matrix, before learning the weights.  To use these weights on a test set, we must normalize the test data in the same way.\n",
    "\n",
    "Alternatively, we can rescale the learned weights to include the normalization, so we never have to worry about normalizing the test data: \n",
    "\n",
    "In this case, we must scale the resulting weights so that we can make predictions with *original* features:\n",
    " 1. Store the norms of the original features to a vector called `norms`:\n",
    "```\n",
    "features, norms = normalize_features(features)\n",
    "```\n",
    " 2. Run Lasso on the normalized features and obtain a `weights` vector\n",
    " 3. Compute the weights for the original features by performing element-wise division, i.e.\n",
    "```\n",
    "weights_normalized = weights / norms\n",
    "```\n",
    "Now, we can apply `weights_normalized` to the test data, without normalizing it!"
   ]
  },
  {
   "cell_type": "markdown",
   "metadata": {},
   "source": [
    "Create a normalized version of each of the weights learned above. (`weights1e4`, `weights1e7`, `weights1e8`)."
   ]
  },
  {
   "cell_type": "code",
   "execution_count": 115,
   "metadata": {},
   "outputs": [
    {
     "name": "stdout",
     "output_type": "stream",
     "text": [
      "161.317454453\n"
     ]
    }
   ],
   "source": [
    "n_features, n_norms = normalize_features(full_matrix)\n",
    "weights1e4 = lasso_cyclical_coordinate_descent(feature_matrix=n_features, initial_weights=initial_weights, l1_penalty=1e4, output=output, tolerance=5e5)\n",
    "weights1e4_normalized = weights1e4 / n_norms\n",
    "weights1e7 = lasso_cyclical_coordinate_descent(feature_matrix=n_features, initial_weights=initial_weights, l1_penalty=1e7, output=output, tolerance=1)\n",
    "weights1e7_normalized = weights1e7 / n_norms\n",
    "weights1e8 = lasso_cyclical_coordinate_descent(feature_matrix=n_features, initial_weights=initial_weights, l1_penalty=1e8, output=output, tolerance=1)\n",
    "weights1e8_normalized = weights1e8 / n_norms\n",
    "print weights1e7_normalized[3]"
   ]
  },
  {
   "cell_type": "markdown",
   "metadata": {},
   "source": [
    "To check your results, if you call `normalized_weights1e7` the normalized version of `weights1e7`, then:\n",
    "```\n",
    "print normalized_weights1e7[3]\n",
    "```\n",
    "should return 161.31745624837794."
   ]
  },
  {
   "cell_type": "markdown",
   "metadata": {},
   "source": [
    "## Evaluating each of the learned models on the test data"
   ]
  },
  {
   "cell_type": "markdown",
   "metadata": {},
   "source": [
    "Let's now evaluate the three models on the test data:"
   ]
  },
  {
   "cell_type": "code",
   "execution_count": 116,
   "metadata": {
    "collapsed": true
   },
   "outputs": [],
   "source": [
    "(test_feature_matrix, test_output) = get_numpy_data(test_data, all_features, 'price')"
   ]
  },
  {
   "cell_type": "markdown",
   "metadata": {},
   "source": [
    "Compute the RSS of each of the three normalized weights on the (unnormalized) `test_feature_matrix`:"
   ]
  },
  {
   "cell_type": "code",
   "execution_count": 118,
   "metadata": {},
   "outputs": [
    {
     "name": "stdout",
     "output_type": "stream",
     "text": [
      "2.27618108934e+14\n"
     ]
    }
   ],
   "source": [
    "prediction1 = predict_output(test_feature_matrix, weights1e4_normalized)\n",
    "RSS1 = np.sum((prediction1 - test_output) ** 2) + 1e4 * np.sum(np.abs(weights1e4_normalized))\n",
    "print RSS1"
   ]
  },
  {
   "cell_type": "code",
   "execution_count": 121,
   "metadata": {},
   "outputs": [
    {
     "name": "stdout",
     "output_type": "stream",
     "text": [
      "2.8138513356e+14\n"
     ]
    }
   ],
   "source": [
    "prediction2 = predict_output(test_feature_matrix, weights1e7_normalized)\n",
    "RSS2 = np.sum((prediction2 - test_output) ** 2) + 1e7 * np.sum(np.abs(weights1e7_normalized))\n",
    "print RSS2"
   ]
  },
  {
   "cell_type": "code",
   "execution_count": 123,
   "metadata": {},
   "outputs": [
    {
     "name": "stdout",
     "output_type": "stream",
     "text": [
      "5.91102812856e+14\n"
     ]
    }
   ],
   "source": [
    "prediction3 = predict_output(test_feature_matrix, weights1e8_normalized)\n",
    "RSS3 = np.sum((prediction3 - test_output) ** 2) + 1e8 * np.sum(np.abs(weights1e8_normalized))\n",
    "print RSS3"
   ]
  },
  {
   "cell_type": "markdown",
   "metadata": {},
   "source": [
    "***QUIZ QUESTION***\n",
    "\n",
    "Which model performed best on the test data?"
   ]
  }
 ],
 "metadata": {
  "kernelspec": {
   "display_name": "Python [default]",
   "language": "python",
   "name": "python2"
  },
  "language_info": {
   "codemirror_mode": {
    "name": "ipython",
    "version": 2
   },
   "file_extension": ".py",
   "mimetype": "text/x-python",
   "name": "python",
   "nbconvert_exporter": "python",
   "pygments_lexer": "ipython2",
   "version": "2.7.12"
  }
 },
 "nbformat": 4,
 "nbformat_minor": 1
}
